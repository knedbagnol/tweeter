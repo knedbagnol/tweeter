{
 "cells": [
  {
   "cell_type": "code",
   "execution_count": 3,
   "id": "bf7fb999-17a2-403c-ade7-556e2c1eb099",
   "metadata": {},
   "outputs": [],
   "source": [
    "import pandas as pd\n",
    "import numpy as np\n",
    "import tweepy as tp"
   ]
  },
  {
   "cell_type": "code",
   "execution_count": 6,
   "id": "ede5ba61-6268-4ec5-a5e9-02a616842759",
   "metadata": {},
   "outputs": [
    {
     "name": "stdout",
     "output_type": "stream",
     "text": [
      "b'https://t.co/vl019VG9Ps'\n",
      "b'RT @anniefryman: Lookie there! \\n\\n300 units of affordable housing coming to Alameda County, courtesy of SB 35 \\xf0\\x9f\\x92\\xab'\n",
      "b'30 Hours is underrated\\xf0\\x9f\\x98\\x93'\n",
      "b'RT @yugiohforbidden: https://t.co/vDR4mE5ilj'\n",
      "b'RT @sunnforrest: Put Tristan Thompson in the Celebrity Big Brother house. I want him to cheat on Khloe on live television.'\n",
      "b'whoever created chicken katsu needs their pussy sucked fr fr'\n",
      "b'RT @lledrook: no way he fell for this looney toons ass wall'\n",
      "b'https://t.co/NHRB44AQ6c'\n",
      "b'RT @CorridosYBandas: No manche suegra, yo nom\\xc3\\xa1s ven\\xc3\\xada a ver a su hija https://t.co/mwgTsqcebZ'\n",
      "b'First week and the fire alarm went off.  And I\\xe2\\x80\\x99m in charge of 42 people \\xf0\\x9f\\x99\\x82\\xf0\\x9f\\x99\\x83'\n",
      "b'RT @therealjuicyj: Sometimes I just be in my own world'\n",
      "b'RT @heluvtat: this or nothing https://t.co/XiOOUPdldE'\n",
      "b'RT @channel_tres: the best is yet to come'\n",
      "b'@bag_hole Looks like I\\xe2\\x80\\x99ll be seeing you on the other side of the door . https://t.co/79mvhnFlTZ'\n",
      "b'https://t.co/Al4DU1lU78'\n",
      "b'the strive grind is back\\nhttps://t.co/8NOSC7r3wT'\n",
      "b'RT @dapr: you can make life a lot harder for yourself by focusing on negative things in your path or making excuses why things didn\\xe2\\x80\\x99t go yo\\xe2\\x80\\xa6'\n",
      "b'@sanity_lee @nicoleanticona Rt \\n\\nI cried so much during the finale'\n",
      "b'@ahaha_hahahahah Here\\xe2\\x80\\x99s the door \\xf0\\x9f\\x9a\\xaa\\n\\nU can leave!!!'\n",
      "b'Wondering when @jkylemann\\nIs gonna snag this one\\nhttps://t.co/nImuQ0QzoI'\n"
     ]
    }
   ],
   "source": [
    "auth = tp.OAuthHandler('Q8PBHkfAQ8Mdu1Jb92xq6XrXk', 'Kq2sWTiwYVlce7H8tf2SDnb87AxcavLAOWOkvlrz3IC4PWFRv0')\n",
    "auth.set_access_token('872883949-S4Yl9enJQRoS5XaaLpq7KH7r0KNw467RvTDFvJZ3', 'rhygCZHSME87BlNLoHhl0ukChWXoe1zhphOkZxwa7tY3n')\n",
    "\n",
    "api = tp.API(auth)\n",
    "\n",
    "public_tweets = api.home_timeline()\n",
    "for tweet in public_tweets:\n",
    "    print(tweet.text.encode('utf-8'))"
   ]
  },
  {
   "cell_type": "code",
   "execution_count": null,
   "id": "493196b9-826f-49ee-8d11-5edb0fa82e16",
   "metadata": {},
   "outputs": [],
   "source": []
  },
  {
   "cell_type": "code",
   "execution_count": null,
   "id": "8439f64f-5bda-487f-8883-ed0e8bebb837",
   "metadata": {},
   "outputs": [],
   "source": []
  },
  {
   "cell_type": "code",
   "execution_count": null,
   "id": "ef3c284d-f35a-425e-a07e-c5c2183ec9df",
   "metadata": {},
   "outputs": [],
   "source": []
  },
  {
   "cell_type": "code",
   "execution_count": null,
   "id": "83dbbd5d-2c03-4865-9ac3-e5ee11404c0f",
   "metadata": {},
   "outputs": [],
   "source": []
  },
  {
   "cell_type": "code",
   "execution_count": null,
   "id": "be5690be-1486-4fa2-9217-a382589d0930",
   "metadata": {},
   "outputs": [],
   "source": []
  }
 ],
 "metadata": {
  "kernelspec": {
   "display_name": "Python 3",
   "language": "python",
   "name": "python3"
  },
  "language_info": {
   "codemirror_mode": {
    "name": "ipython",
    "version": 3
   },
   "file_extension": ".py",
   "mimetype": "text/x-python",
   "name": "python",
   "nbconvert_exporter": "python",
   "pygments_lexer": "ipython3",
   "version": "3.8.8"
  }
 },
 "nbformat": 4,
 "nbformat_minor": 5
}
